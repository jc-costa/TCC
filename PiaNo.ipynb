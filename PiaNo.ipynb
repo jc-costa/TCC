{
 "cells": [
  {
   "cell_type": "code",
   "execution_count": 1,
   "id": "59c79d75",
   "metadata": {},
   "outputs": [],
   "source": [
    "import random\n",
    "import numpy as np\n",
    "import math\n",
    "import matplotlib.pyplot as plt"
   ]
  },
  {
   "cell_type": "code",
   "execution_count": 2,
   "id": "edf70f39",
   "metadata": {},
   "outputs": [],
   "source": [
    "a = 0.06\n",
    "points_1 = []\n",
    "points_2 = []\n",
    "N = 5"
   ]
  },
  {
   "cell_type": "code",
   "execution_count": 3,
   "id": "a023b6ab",
   "metadata": {},
   "outputs": [],
   "source": [
    "def points(N):\n",
    "    for i in range(N):\n",
    "        x_1 = np.random.uniform(0, 1)\n",
    "        y_1 = np.random.uniform(0, 1)\n",
    "        points_1.append((x_1, y_1))\n",
    "        alpha = np.random.uniform(0, 2 * np.pi)\n",
    "\n",
    "        x_2 = x_1 + a * np.cos(alpha)\n",
    "        y_2 = y_1 + a * np.sin(alpha)\n",
    "\n",
    "        points_2.append((x_2, y_2))"
   ]
  },
  {
   "cell_type": "code",
   "execution_count": 4,
   "id": "4d453eeb",
   "metadata": {},
   "outputs": [],
   "source": [
    "points(N)"
   ]
  },
  {
   "cell_type": "code",
   "execution_count": 5,
   "id": "2b037772",
   "metadata": {},
   "outputs": [
    {
     "data": {
      "text/plain": [
       "[(0.2944007719230576, 0.6187311535602519),\n",
       " (0.46481050459336704, 0.3507378532144605),\n",
       " (0.5891645103069995, 0.9716619962247524),\n",
       " (0.5510775448781278, 0.24561375871980118),\n",
       " (0.7478282915465538, 0.028357266880676857)]"
      ]
     },
     "execution_count": 5,
     "metadata": {},
     "output_type": "execute_result"
    }
   ],
   "source": [
    "points_1"
   ]
  },
  {
   "cell_type": "code",
   "execution_count": 6,
   "id": "8f8cf4ca",
   "metadata": {},
   "outputs": [
    {
     "data": {
      "text/plain": [
       "[(0.35345850172101456, 0.6081394326844213),\n",
       " (0.45774625694933857, 0.4103205386626999),\n",
       " (0.5318107558373046, 0.9892843356900436),\n",
       " (0.6103506573141037, 0.23630257500599972),\n",
       " (0.7930337989757037, -0.011094755856732669)]"
      ]
     },
     "execution_count": 6,
     "metadata": {},
     "output_type": "execute_result"
    }
   ],
   "source": [
    "points_2"
   ]
  },
  {
   "cell_type": "code",
   "execution_count": 7,
   "id": "71adf843",
   "metadata": {},
   "outputs": [],
   "source": [
    "def plot_lines(N):\n",
    "    for i in range(N):\n",
    "        plt.plot([points_1[i][0], points_2[i][0]], [points_1[i][1], points_2[i][1]], 'r')\n",
    "    plt.show()"
   ]
  },
  {
   "cell_type": "code",
   "execution_count": 8,
   "id": "1f7ae67d",
   "metadata": {},
   "outputs": [
    {
     "data": {
      "image/png": "[encoded data removed]",
      "text/plain": [
       "<Figure size 640x480 with 1 Axes>"
      ]
     },
     "metadata": {},
     "output_type": "display_data"
    }
   ],
   "source": [
    "plot_lines(N)"
   ]
  }
 ],
 "metadata": {
  "kernelspec": {
   "display_name": "Python 3 (ipykernel)",
   "language": "python",
   "name": "python3"
  },
  "language_info": {
   "codemirror_mode": {
    "name": "ipython",
    "version": 3
   },
   "file_extension": ".py",
   "mimetype": "text/x-python",
   "name": "python",
   "nbconvert_exporter": "python",
   "pygments_lexer": "ipython3",
   "version": "3.11.2"
  }
 },
 "nbformat": 4,
 "nbformat_minor": 5
}
